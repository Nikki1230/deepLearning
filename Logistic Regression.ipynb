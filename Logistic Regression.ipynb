{
 "cells": [
  {
   "cell_type": "code",
   "execution_count": 28,
   "metadata": {
    "collapsed": true
   },
   "outputs": [],
   "source": [
    "import numpy as np\n",
    "import matplotlib.pyplot as plt\n",
    "import h5py\n",
    "import scipy\n",
    "from PIL import Image\n",
    "from scipy import ndimage\n",
    "from lr_utils import load_dataset"
   ]
  },
  {
   "cell_type": "code",
   "execution_count": 29,
   "metadata": {
    "collapsed": true
   },
   "outputs": [],
   "source": [
    "def load_dataset():\n",
    "    train_dataset = h5py.File(\"d:\\\\Anaconda\\\\Lib\\\\site-packages\\\\h5py\\\\datasets\\\\train_catvnoncat.h5\", \"r\") #读取训练数据，共209张图片\n",
    "    test_dataset = h5py.File(\"d:\\\\Anaconda\\\\Lib\\\\site-packages\\\\h5py\\\\datasets\\\\test_catvnoncat.h5\", \"r\") #读取测试数据，共50张图片\n",
    "\n",
    "    train_set_x_orig = np.array(train_dataset[\"train_set_x\"][:]) #原始训练集（209*64*64*3）\n",
    "    train_set_y_orig = np.array(train_dataset[\"train_set_y\"][:]) #原始训练集的标签集（y=0非猫,y=1是猫）（209*1）\n",
    "\n",
    "    test_set_x_orig = np.array(test_dataset[\"test_set_x\"][:]) #原始测试集（50*64*64*3\n",
    "    test_set_y_orig = np.array(test_dataset[\"test_set_y\"][:]) #原始测试集的标签集（y=0非猫,y=1是猫）（50*1）\n",
    "\n",
    "    train_set_y_orig = train_set_y_orig.reshape((1,train_set_y_orig.shape[0])) #原始训练集的标签集设为（1*209）\n",
    "    test_set_y_orig = test_set_y_orig.reshape((1,test_set_y_orig.shape[0])) #原始测试集的标签集设为（1*50）\n",
    "\n",
    "    classes = np.array(test_dataset[\"list_classes\"][:])\n",
    "    return train_set_x_orig, train_set_y_orig, test_set_x_orig, test_set_y_orig, classes"
   ]
  },
  {
   "cell_type": "code",
   "execution_count": 30,
   "metadata": {
    "collapsed": true
   },
   "outputs": [],
   "source": [
    "#sigmoid函数\n",
    "def sigmoid(z):\n",
    "    s = 1/(1+np.exp(-z))\n",
    "    return s"
   ]
  },
  {
   "cell_type": "code",
   "execution_count": 31,
   "metadata": {
    "collapsed": true
   },
   "outputs": [],
   "source": [
    "#初始化参数w,b\n",
    "def initialize_with_zeros(dim):\n",
    "    w = np.zeros((dim,1)) #w为一个dim*1矩阵\n",
    "    b = 0    \n",
    "    return w, b"
   ]
  },
  {
   "cell_type": "code",
   "execution_count": 32,
   "metadata": {
    "collapsed": true
   },
   "outputs": [],
   "source": [
    "#计算Y_hat,成本函数J以及dw，db\n",
    "def propagate(w, b, X, Y):\n",
    "    m = X.shape[1] #样本个数\n",
    "    Y_hat = sigmoid(np.dot(w.T,X)+b)                                     \n",
    "    cost = -(np.sum(np.dot(Y,np.log(Y_hat).T)+np.dot((1-Y),np.log(1-Y_hat).T)))/m #成本函数\n",
    "\n",
    "    dw = (np.dot(X,(Y_hat-Y).T))/m\n",
    "    db = (np.sum(Y_hat-Y))/m\n",
    "\n",
    "    cost = np.squeeze(cost) #压缩维度    \n",
    "    grads = {\"dw\": dw,\n",
    "             \"db\": db} #梯度\n",
    "\n",
    "    return grads, cost"
   ]
  },
  {
   "cell_type": "code",
   "execution_count": 33,
   "metadata": {
    "collapsed": true
   },
   "outputs": [],
   "source": [
    "#梯度下降找出最优解\n",
    "def optimize(w, b, X, Y, num_iterations, learning_rate, print_cost = False):#num_iterations-梯度下降次数 learning_rate-学习率，即参数ɑ\n",
    "    costs = [] #记录成本值\n",
    "\n",
    "    for i in range(num_iterations): #循环进行梯度下降\n",
    "        grads, cost = propagate(w,b,X,Y)\n",
    "        dw = grads[\"dw\"]\n",
    "        db = grads[\"db\"]\n",
    "\n",
    "        w = w - learning_rate*dw\n",
    "        b = b - learning_rate*db\n",
    "\n",
    "        if i % 100 == 0: #每100次记录一次成本值\n",
    "            costs.append(cost)\n",
    "\n",
    "        if print_cost and i % 100 == 0: #打印成本值\n",
    "            print (\"循环%i次后的成本值: %f\" %(i, cost))\n",
    "\n",
    "    params = {\"w\": w,\n",
    "              \"b\": b} #最终参数值\n",
    "\n",
    "    grads = {\"dw\": dw,\n",
    "             \"db\": db}#最终梯度值\n",
    "\n",
    "    return params, grads, costs"
   ]
  },
  {
   "cell_type": "code",
   "execution_count": 34,
   "metadata": {
    "collapsed": true
   },
   "outputs": [],
   "source": [
    "#预测出结果\n",
    "def predict(w, b, X):\n",
    "    m = X.shape[1] #样本个数\n",
    "    Y_prediction = np.zeros((1,m)) #初始化预测输出\n",
    "    w = w.reshape(X.shape[0], 1) #转置参数向量w\n",
    "\n",
    "    Y_hat = sigmoid(np.dot(w.T,X)+b) #最终得到的参数代入方程\n",
    "\n",
    "    for i in range(Y_hat.shape[1]):\n",
    "        if Y_hat[:,i]>0.5:\n",
    "            Y_prediction[:,i] = 1\n",
    "        else:\n",
    "            Y_prediction[:,i] = 0\n",
    "\n",
    "    return Y_prediction"
   ]
  },
  {
   "cell_type": "code",
   "execution_count": 35,
   "metadata": {
    "collapsed": true
   },
   "outputs": [],
   "source": [
    "#建立整个预测模型\n",
    "def model(X_train, Y_train, X_test, Y_test, num_iterations = 2000, learning_rate = 0.5, print_cost = False): #num_iterations-梯度下降次数 learning_rate-学习率，即参数ɑ\n",
    "    w, b = initialize_with_zeros(X_train.shape[0]) #初始化参数w，b\n",
    "\n",
    "    parameters, grads, costs = optimize(w, b, X_train, Y_train, num_iterations, learning_rate, print_cost) #梯度下降找到最优参数\n",
    "\n",
    "    w = parameters[\"w\"]\n",
    "    b = parameters[\"b\"]\n",
    "\n",
    "    Y_prediction_train = predict(w, b, X_train) #训练集的预测结果\n",
    "    Y_prediction_test = predict(w, b, X_test) #测试集的预测结果\n",
    "\n",
    "    train_accuracy = 100 - np.mean(np.abs(Y_prediction_train - Y_train)) * 100 #训练集识别准确度\n",
    "    test_accuracy = 100 - np.mean(np.abs(Y_prediction_test - Y_test)) * 100 #测试集识别准确度\n",
    "\n",
    "    print(\"训练集识别准确度: {} %\".format(train_accuracy))\n",
    "    print(\"测试集识别准确度: {} %\".format(test_accuracy))\n",
    "\n",
    "    d = {\"costs\": costs,\n",
    "         \"Y_prediction_test\": Y_prediction_test,\n",
    "         \"Y_prediction_train\" : Y_prediction_train,\n",
    "         \"w\" : w,\n",
    "         \"b\" : b,\n",
    "         \"learning_rate\" : learning_rate,\n",
    "         \"num_iterations\": num_iterations}\n",
    "\n",
    "    return d"
   ]
  },
  {
   "cell_type": "code",
   "execution_count": 36,
   "metadata": {
    "collapsed": false
   },
   "outputs": [
    {
     "name": "stdout",
     "output_type": "stream",
     "text": [
      "循环0次后的成本值: 0.693147\n",
      "循环100次后的成本值: 0.584508\n",
      "循环200次后的成本值: 0.466949\n",
      "循环300次后的成本值: 0.376007\n",
      "循环400次后的成本值: 0.331463\n",
      "循环500次后的成本值: 0.303273\n",
      "循环600次后的成本值: 0.279880\n",
      "循环700次后的成本值: 0.260042\n",
      "循环800次后的成本值: 0.242941\n",
      "循环900次后的成本值: 0.228004\n",
      "循环1000次后的成本值: 0.214820\n",
      "循环1100次后的成本值: 0.203078\n",
      "循环1200次后的成本值: 0.192544\n",
      "循环1300次后的成本值: 0.183033\n",
      "循环1400次后的成本值: 0.174399\n",
      "循环1500次后的成本值: 0.166521\n",
      "循环1600次后的成本值: 0.159305\n",
      "循环1700次后的成本值: 0.152667\n",
      "循环1800次后的成本值: 0.146542\n",
      "循环1900次后的成本值: 0.140872\n",
      "训练集识别准确度: 99.04306220095694 %\n",
      "测试集识别准确度: 70.0 %\n"
     ]
    }
   ],
   "source": [
    "#初始化数据\n",
    "train_set_x_orig, train_set_y, test_set_x_orig, test_set_y, classes = load_dataset()\n",
    "\n",
    "m_train = train_set_x_orig.shape[0] #训练集中样本个数\n",
    "m_test = test_set_x_orig.shape[0] #测试集总样本个数\n",
    "num_px = test_set_x_orig.shape[1] #图片的像素大小\n",
    "\n",
    "train_set_x_flatten = train_set_x_orig.reshape(train_set_x_orig.shape[0],-1).T #原始训练集的设为（12288*209）\n",
    "test_set_x_flatten = test_set_x_orig.reshape(test_set_x_orig.shape[0],-1).T #原始测试集设为（12288*50）\n",
    "\n",
    "train_set_x = train_set_x_flatten/255. #将训练集矩阵标准化\n",
    "test_set_x = test_set_x_flatten/255. #将测试集矩阵标准化\n",
    "\n",
    "d = model(train_set_x, train_set_y, test_set_x, test_set_y, num_iterations = 2000, learning_rate = 0.005, print_cost = True)"
   ]
  }
 ],
 "metadata": {
  "anaconda-cloud": {},
  "kernelspec": {
   "display_name": "Python [conda root]",
   "language": "python",
   "name": "conda-root-py"
  },
  "language_info": {
   "codemirror_mode": {
    "name": "ipython",
    "version": 3
   },
   "file_extension": ".py",
   "mimetype": "text/x-python",
   "name": "python",
   "nbconvert_exporter": "python",
   "pygments_lexer": "ipython3",
   "version": "3.5.2"
  }
 },
 "nbformat": 4,
 "nbformat_minor": 1
}
